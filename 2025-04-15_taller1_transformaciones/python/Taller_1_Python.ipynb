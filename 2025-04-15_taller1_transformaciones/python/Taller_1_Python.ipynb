{
  "nbformat": 4,
  "nbformat_minor": 0,
  "metadata": {
    "colab": {
      "provenance": []
    },
    "kernelspec": {
      "name": "python3",
      "display_name": "Python 3"
    },
    "language_info": {
      "name": "python"
    }
  },
  "cells": [
    {
      "cell_type": "markdown",
      "source": [
        "💻 Python (Colab o Jupyter Notebook)  \n",
        "Herramientas: matplotlib, numpy, imageio  \n",
        "Crear una figura 2D con puntos o formas  \n",
        "Aplicar traslación, rotación y escala usando matrices de transformación  \n",
        "Generar una animación (usando bucles o interpolación)  \n",
        "Animar la transformación en función del tiempo (t) o del frame  \n",
        "Exportar como GIF animado con imageio\n",
        "\n"
      ],
      "metadata": {
        "id": "dJ87tdMz5Ti1"
      }
    },
    {
      "cell_type": "code",
      "source": [
        "import numpy as np\n",
        "import matplotlib.pyplot as plt\n",
        "import imageio.v2 as imageio\n",
        "import os\n",
        "\n",
        "# Crear carpeta temporal para generar GIF\n",
        "frame_dir = 'frames'\n",
        "if not os.path.exists(frame_dir):\n",
        "    os.makedirs(frame_dir)\n",
        "\n",
        "# Borrar imágenes antiguas si existen\n",
        "for filename in os.listdir(frame_dir):\n",
        "    os.remove(os.path.join(frame_dir, filename))\n",
        "\n",
        "# Crear círculo (esfera 2D) con coordenadas homogéneas\n",
        "n_points = 100\n",
        "theta_circle = np.linspace(0, 2 * np.pi, n_points)\n",
        "x = np.cos(theta_circle)\n",
        "y = np.sin(theta_circle)\n",
        "ones = np.ones_like(x)\n",
        "circle = np.vstack((x, y, ones))  # 3xN matriz homogénea\n",
        "\n",
        "n_frames = 60\n",
        "\n",
        "# Generar frames\n",
        "for t in range(n_frames):\n",
        "    theta = 2 * np.pi * t / n_frames  # ángulo de rotación\n",
        "    scale = 1 + 0.3 * np.sin(2 * np.pi * t / n_frames)  # escala oscilante\n",
        "    tx, ty = 2 * np.cos(theta), 2 * np.sin(theta)  # traslación circular\n",
        "\n",
        "    # Matriz de escala\n",
        "    S = np.array([\n",
        "        [scale, 0,     0],\n",
        "        [0,     scale, 0],\n",
        "        [0,     0,     1]\n",
        "    ])\n",
        "\n",
        "    # Matriz de rotación\n",
        "    R = np.array([\n",
        "        [np.cos(theta), -np.sin(theta), 0],\n",
        "        [np.sin(theta),  np.cos(theta), 0],\n",
        "        [0,              0,             1]\n",
        "    ])\n",
        "\n",
        "    # Matriz de traslación\n",
        "    T = np.array([\n",
        "        [1, 0, tx],\n",
        "        [0, 1, ty],\n",
        "        [0, 0, 1]\n",
        "    ])\n",
        "\n",
        "    # Matriz de transformación compuesta: T * R * S\n",
        "    transformation = T @ R @ S\n",
        "    transformed_circle = transformation @ circle\n",
        "\n",
        "    # Dibujar\n",
        "    plt.figure(figsize=(5, 5))\n",
        "    plt.plot(circle[0], circle[1], 'b--', label='Original')\n",
        "    plt.plot(transformed_circle[0], transformed_circle[1], 'r-', label='Transformado')\n",
        "    plt.xlim(-4, 4)\n",
        "    plt.ylim(-4, 4)\n",
        "    plt.gca().set_aspect('equal')\n",
        "    plt.title(f'Frame {t}')\n",
        "    plt.legend()\n",
        "    plt.grid(True)\n",
        "\n",
        "    # Mostrar matriz de transformación como texto\n",
        "    matrix_str = '\\n'.join([\n",
        "        f'{row[0]: .2f}  {row[1]: .2f}  {row[2]: .2f}' for row in transformation\n",
        "    ])\n",
        "    plt.text(-3.8, 3.2, f'Matriz de\\ntransformación:\\n{matrix_str}', fontsize=8, family='monospace')\n",
        "\n",
        "    # Guardar imagen\n",
        "    frame_path = os.path.join(frame_dir, f'frame_{t:03d}.png')\n",
        "    plt.savefig(frame_path)\n",
        "    plt.close()\n",
        "\n",
        "# Crear GIF\n",
        "images = [imageio.imread(os.path.join(frame_dir, f'frame_{i:03d}.png')) for i in range(n_frames)]\n",
        "gif_path = 'transformacion_esfera_con_matriz.gif'\n",
        "imageio.mimsave(gif_path, images, fps=15)\n",
        "\n",
        "print(\"✅ GIF generado:\", gif_path)\n"
      ],
      "metadata": {
        "colab": {
          "base_uri": "https://localhost:8080/"
        },
        "id": "FcvdV3P06yzx",
        "outputId": "550082f3-ae80-4a57-b269-2137fb2ea525"
      },
      "execution_count": 4,
      "outputs": [
        {
          "output_type": "stream",
          "name": "stdout",
          "text": [
            "✅ GIF generado: transformacion_esfera_con_matriz.gif\n"
          ]
        }
      ]
    }
  ]
}