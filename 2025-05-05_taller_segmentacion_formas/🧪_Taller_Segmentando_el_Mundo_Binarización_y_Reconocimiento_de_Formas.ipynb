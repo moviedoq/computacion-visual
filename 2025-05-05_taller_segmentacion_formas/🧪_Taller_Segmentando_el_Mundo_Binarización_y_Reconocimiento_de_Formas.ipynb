{
  "nbformat": 4,
  "nbformat_minor": 0,
  "metadata": {
    "colab": {
      "provenance": []
    },
    "kernelspec": {
      "name": "python3",
      "display_name": "Python 3"
    },
    "language_info": {
      "name": "python"
    }
  },
  "cells": [
    {
      "cell_type": "code",
      "source": [
        "# Importación de bibliotecas necesarias\n",
        "import cv2                          # OpenCV para procesamiento de imágenes\n",
        "import numpy as np                 # NumPy para operaciones numéricas\n",
        "from PIL import Image, ImageDraw, ImageFont  # Para crear y editar imágenes tipo GIF\n",
        "\n",
        "# 1. Cargar imagen en escala de grises y color\n",
        "img_gray = cv2.imread('monedas.jpg', cv2.IMREAD_GRAYSCALE)  # Imagen en escala de grises para segmentación\n",
        "img_color = cv2.imread('monedas.jpg')                        # Imagen original en BGR (formato de OpenCV)\n",
        "img_rgb = cv2.cvtColor(img_color, cv2.COLOR_BGR2RGB)         # Conversión a RGB para visualización y PIL\n",
        "\n",
        "# 2. Aplicar suavizado + umbral adaptativo\n",
        "# Se aplica un desenfoque Gaussiano para reducir el ruido antes de segmentar\n",
        "blurred = cv2.GaussianBlur(img_gray, (11, 11), 0)\n",
        "\n",
        "# Umbral adaptativo inverso: monedas oscuras sobre fondo claro\n",
        "thresh = cv2.adaptiveThreshold(\n",
        "    blurred, 255,                            # Máximo valor\n",
        "    cv2.ADAPTIVE_THRESH_GAUSSIAN_C,         # Método adaptativo\n",
        "    cv2.THRESH_BINARY_INV,                  # Inverso: monedas = blanco\n",
        "    11, 2                                   # Bloque de 11x11 y constante substraída = 2\n",
        ")\n",
        "\n",
        "# 3. Detección de contornos\n",
        "contours, _ = cv2.findContours(\n",
        "    thresh, cv2.RETR_EXTERNAL, cv2.CHAIN_APPROX_SIMPLE\n",
        ")  # Detecta contornos externos\n",
        "\n",
        "img_result = img_rgb.copy()  # Copia de la imagen para dibujar resultados\n",
        "areas, perimetros = [], []  # Listas para almacenar métricas\n",
        "\n",
        "# Iterar sobre cada contorno\n",
        "for cnt in contours:\n",
        "    area = cv2.contourArea(cnt)\n",
        "    if area < 1000:\n",
        "        continue  # Ignorar contornos pequeños (ruido)\n",
        "\n",
        "    perim = cv2.arcLength(cnt, True)\n",
        "    areas.append(area)\n",
        "    perimetros.append(perim)\n",
        "\n",
        "    # Calcular bounding box y dibujarla\n",
        "    x, y, w, h = cv2.boundingRect(cnt)\n",
        "    cv2.rectangle(img_result, (x, y), (x + w, y + h), (0, 255, 0), 2)\n",
        "\n",
        "    # Calcular el centro de masa del contorno\n",
        "    M = cv2.moments(cnt)\n",
        "    if M[\"m00\"] != 0:\n",
        "        cx = int(M[\"m10\"] / M[\"m00\"])\n",
        "        cy = int(M[\"m01\"] / M[\"m00\"])\n",
        "        cv2.circle(img_result, (cx, cy), 5, (255, 0, 0), -1)\n",
        "\n",
        "    # Dibujar el contorno sobre la imagen\n",
        "    cv2.drawContours(img_result, [cnt], -1, (255, 255, 0), 2)\n",
        "\n",
        "# 4. Preparar frames para el GIF\n",
        "frames = []\n",
        "\n",
        "# Convertir imágenes a formato PIL\n",
        "original_pil = Image.fromarray(img_rgb)\n",
        "thresh_rgb = cv2.cvtColor(thresh, cv2.COLOR_GRAY2RGB)  # Convertir binaria a RGB para compatibilidad con PIL\n",
        "thresh_pil = Image.fromarray(thresh_rgb)\n",
        "result_pil = Image.fromarray(img_result)\n",
        "\n",
        "# Función auxiliar para agregar etiquetas con borde\n",
        "def add_label(pil_img, label_text):\n",
        "    img = pil_img.copy()\n",
        "    draw = ImageDraw.Draw(img)\n",
        "    try:\n",
        "        font = ImageFont.truetype(\"arial.ttf\", 32)\n",
        "    except:\n",
        "        font = ImageFont.load_default()\n",
        "\n",
        "    x, y = 10, 10\n",
        "    # Dibujar contorno negro del texto\n",
        "    for dx in [-1, 0, 1]:\n",
        "        for dy in [-1, 0, 1]:\n",
        "            if dx != 0 or dy != 0:\n",
        "                draw.text((x + dx, y + dy), label_text, font=font, fill=(0, 0, 0))\n",
        "    # Dibujar texto blanco encima\n",
        "    draw.text((x, y), label_text, font=font, fill=(255, 255, 255))\n",
        "    return img\n",
        "\n",
        "# Crear los 3 fotogramas del GIF con sus etiquetas\n",
        "frames.append(add_label(original_pil, \"Imagen original\"))\n",
        "frames.append(add_label(thresh_pil, \"Segmentación binaria\"))\n",
        "frames.append(add_label(result_pil, \"Contornos y detección\"))\n",
        "\n",
        "# 5. Guardar GIF animado\n",
        "frames[0].save(\n",
        "    \"deteccion_monedas.gif\",\n",
        "    save_all=True,\n",
        "    append_images=frames[1:],  # Agrega los siguientes frames\n",
        "    duration=1000,             # 1 segundo por fotograma\n",
        "    loop=0                     # Repetir infinitamente\n",
        ")\n",
        "\n",
        "print(\"✅ GIF guardado como 'deteccion_monedas.gif'\")\n"
      ],
      "metadata": {
        "colab": {
          "base_uri": "https://localhost:8080/"
        },
        "id": "IQPEZzQvnIu0",
        "outputId": "5ca48f79-5e98-424a-9d47-4c04591371fa"
      },
      "execution_count": 15,
      "outputs": [
        {
          "output_type": "stream",
          "name": "stdout",
          "text": [
            "✅ GIF guardado como 'deteccion_monedas.gif'\n"
          ]
        }
      ]
    }
  ]
}