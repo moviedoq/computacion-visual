{
  "nbformat": 4,
  "nbformat_minor": 0,
  "metadata": {
    "colab": {
      "provenance": []
    },
    "kernelspec": {
      "name": "python3",
      "display_name": "Python 3"
    },
    "language_info": {
      "name": "python"
    }
  },
  "cells": [
    {
      "cell_type": "markdown",
      "source": [
        "## ✅ 1. Preparar el entorno de dibujo\n",
        "Se crea una imagen en blanco de 200x200 píxeles. Con pixels = image.load() accedemos a la matriz de píxeles para modificar cada punto directamente.\n",
        "\n",
        "\n",
        "\n",
        "\n"
      ],
      "metadata": {
        "id": "3bOBm8gpYkQP"
      }
    },
    {
      "cell_type": "code",
      "execution_count": 6,
      "metadata": {
        "id": "iu2qJ80ZXEUp"
      },
      "outputs": [],
      "source": [
        "from PIL import Image, ImageDraw\n",
        "import matplotlib.pyplot as plt\n",
        "\n",
        "width, height = 200, 200\n",
        "image = Image.new('RGB', (width, height), 'white')\n",
        "pixels = image.load()\n"
      ]
    },
    {
      "cell_type": "markdown",
      "source": [
        "## ✅ 2. Dibujar una línea con el algoritmo de Bresenham\n"
      ],
      "metadata": {
        "id": "trAK4RSmYtaT"
      }
    },
    {
      "cell_type": "markdown",
      "source": [
        "El algoritmo de Bresenham traza una línea entre dos puntos usando solamente operaciones enteras, lo que lo hace rápido y eficiente. Es ideal para renderizado en hardware de bajo nivel o para entender cómo las líneas se discretizan en píxeles.\n",
        "\n"
      ],
      "metadata": {
        "id": "WthaWHXPYzlu"
      }
    },
    {
      "cell_type": "code",
      "source": [
        "def bresenham(x0, y0, x1, y1):\n",
        "    dx = abs(x1 - x0)\n",
        "    dy = abs(y1 - y0)\n",
        "    sx = 1 if x0 < x1 else -1\n",
        "    sy = 1 if y0 < y1 else -1\n",
        "    err = dx - dy\n",
        "\n",
        "    while True:\n",
        "        pixels[x0, y0] = (255, 0, 0)\n",
        "        if x0 == x1 and y0 == y1:\n",
        "            break\n",
        "        e2 = 2 * err\n",
        "        if e2 > -dy:\n",
        "            err -= dy\n",
        "            x0 += sx\n",
        "        if e2 < dx:\n",
        "            err += dx\n",
        "            y0 += sy\n"
      ],
      "metadata": {
        "id": "PbaYu0qIXV_X"
      },
      "execution_count": 7,
      "outputs": []
    },
    {
      "cell_type": "code",
      "source": [
        "bresenham(20, 20, 180, 120)\n"
      ],
      "metadata": {
        "id": "CvLxPkwcXZHR"
      },
      "execution_count": 8,
      "outputs": []
    },
    {
      "cell_type": "markdown",
      "source": [
        "## ✅ 3. Dibujar un círculo con el algoritmo de punto medio\n",
        "Este algoritmo permite dibujar un círculo completo aprovechando la simetría de 8 octantes. También usa solo enteros, lo cual lo hace eficiente y preciso sin operaciones de punto flotante.\n",
        "\n"
      ],
      "metadata": {
        "id": "3J2SHEbqY2hi"
      }
    },
    {
      "cell_type": "code",
      "source": [
        "def midpoint_circle(x0, y0, radius):\n",
        "    x = radius\n",
        "    y = 0\n",
        "    p = 1 - radius\n",
        "\n",
        "    while x >= y:\n",
        "        for dx, dy in [(x, y), (y, x), (-x, y), (-y, x), (-x, -y), (-y, -x), (x, -y), (y, -x)]:\n",
        "            if 0 <= x0 + dx < width and 0 <= y0 + dy < height:\n",
        "                pixels[x0 + dx, y0 + dy] = (0, 0, 255)\n",
        "        y += 1\n",
        "        if p <= 0:\n",
        "            p = p + 2*y + 1\n",
        "        else:\n",
        "            x -= 1\n",
        "            p = p + 2*y - 2*x + 1\n"
      ],
      "metadata": {
        "id": "TkicJBf2XauC"
      },
      "execution_count": 9,
      "outputs": []
    },
    {
      "cell_type": "code",
      "source": [
        "midpoint_circle(100, 100, 40)\n"
      ],
      "metadata": {
        "id": "ZUicYCIzXb9C"
      },
      "execution_count": 10,
      "outputs": []
    },
    {
      "cell_type": "markdown",
      "source": [
        "## ✅ 4. Rellenar un triángulo (rasterización por scanline)\n"
      ],
      "metadata": {
        "id": "kiU59L-MY63P"
      }
    },
    {
      "cell_type": "markdown",
      "source": [
        "Este método usa rasterización por scanline, rellenando horizontalmente entre bordes interpolados del triángulo. Es una forma eficiente de colorear un área poligonal sin usar librerías externas.\n",
        "\n"
      ],
      "metadata": {
        "id": "HrBAr8O_Y-Wy"
      }
    },
    {
      "cell_type": "code",
      "source": [
        "def fill_triangle(p1, p2, p3):\n",
        "    # ordenar por y\n",
        "    pts = sorted([p1, p2, p3], key=lambda p: p[1])\n",
        "    (x1, y1), (x2, y2), (x3, y3) = pts\n",
        "\n",
        "    def interpolate(y0, y1, x0, x1):\n",
        "        if y1 - y0 == 0: return []\n",
        "        return [int(x0 + (x1 - x0) * (y - y0) / (y1 - y0)) for y in range(y0, y1)]\n",
        "\n",
        "    x12 = interpolate(y1, y2, x1, x2)\n",
        "    x23 = interpolate(y2, y3, x2, x3)\n",
        "    x13 = interpolate(y1, y3, x1, x3)\n",
        "\n",
        "    x_left = x12 + x23\n",
        "    for y, xl, xr in zip(range(y1, y3), x13, x_left):\n",
        "        for x in range(min(xl, xr), max(xl, xr)):\n",
        "            if 0 <= x < width and 0 <= y < height:\n",
        "                pixels[x, y] = (0, 255, 0)\n"
      ],
      "metadata": {
        "id": "yMG_dqLgXdGs"
      },
      "execution_count": 11,
      "outputs": []
    },
    {
      "cell_type": "code",
      "source": [
        "fill_triangle((30, 50), (100, 150), (160, 60))\n"
      ],
      "metadata": {
        "id": "8PBqOQqQXe0I"
      },
      "execution_count": 12,
      "outputs": []
    },
    {
      "cell_type": "code",
      "source": [
        "plt.imshow(image)\n",
        "plt.axis('off')\n",
        "plt.show()\n"
      ],
      "metadata": {
        "colab": {
          "base_uri": "https://localhost:8080/",
          "height": 406
        },
        "id": "DBC5dWHzXgIS",
        "outputId": "de06ca7c-92ea-4eac-8e00-ab78819adeea"
      },
      "execution_count": 13,
      "outputs": [
        {
          "output_type": "display_data",
          "data": {
            "text/plain": [
              "<Figure size 640x480 with 1 Axes>"
            ],
            "image/png": "[encoded data removed]"
          },
          "metadata": {}
        }
      ]
    }
  ]
}